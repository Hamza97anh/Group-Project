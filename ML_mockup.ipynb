{
 "cells": [
  {
   "cell_type": "code",
   "execution_count": null,
   "id": "a9c4a366",
   "metadata": {},
   "outputs": [],
   "source": [
    "# Logistic Regression - this model will predict whether or not an individual has a mental health disorder (output: yes or no)"
   ]
  },
  {
   "cell_type": "code",
   "execution_count": 2,
   "id": "96853aa6",
   "metadata": {},
   "outputs": [],
   "source": [
    "# Import dependencies\n",
    "import matplotlib.pyplot as plt\n",
    "import pandas as pd"
   ]
  },
  {
   "cell_type": "code",
   "execution_count": null,
   "id": "f06cd878",
   "metadata": {},
   "outputs": [],
   "source": [
    "# Import data as dataframe - (csv has not been transformed yet)\n",
    "df = pd.DataFrame()"
   ]
  },
  {
   "cell_type": "code",
   "execution_count": null,
   "id": "64004a2a",
   "metadata": {},
   "outputs": [],
   "source": [
    "# Potential independent variable = whether manager has had formal discussion about mental health importance and \n",
    "# opportunities with employee\n",
    "X = df.formalDiscussion.values.reshape(-1,1)"
   ]
  },
  {
   "cell_type": "code",
   "execution_count": null,
   "id": "0d4b2310",
   "metadata": {},
   "outputs": [],
   "source": [
    "# Dependent vairable = whether the employee has been diagnosed with a mental health disorder\n",
    "y = df.mentalHealthDisorder.values.reshape(-1,1)"
   ]
  },
  {
   "cell_type": "code",
   "execution_count": null,
   "id": "95db6f7b",
   "metadata": {},
   "outputs": [],
   "source": [
    "# Split data into training and testing\n",
    "from sklearn.model_selection import train_test_split\n",
    "\n",
    "X_train, X_test, y_train, y_test = train_test_split(X, \n",
    "                                                    y, \n",
    "                                                    random_state=1, \n",
    "                                                    stratify=y)"
   ]
  },
  {
   "cell_type": "code",
   "execution_count": 3,
   "id": "d2760358",
   "metadata": {},
   "outputs": [],
   "source": [
    "# Create logistic regression model\n",
    "from sklearn.linear_model import LogisticRegression\n",
    "classifier = LogisticRegression(solver='lbfgs', random_state=1)"
   ]
  },
  {
   "cell_type": "code",
   "execution_count": null,
   "id": "533b759e",
   "metadata": {},
   "outputs": [],
   "source": [
    "## Train data\n",
    "classifier.fit(X_train, y_train)"
   ]
  },
  {
   "cell_type": "code",
   "execution_count": null,
   "id": "7ec79488",
   "metadata": {},
   "outputs": [],
   "source": [
    "## Predict outcomes for test data\n",
    "predictions = classifier.predict(X_test)\n",
    "pd.DataFrame({\"Prediction\": predictions, \"Actual\": y_test})"
   ]
  },
  {
   "cell_type": "code",
   "execution_count": null,
   "id": "f343139b",
   "metadata": {},
   "outputs": [],
   "source": [
    "# Validate model with test data\n",
    "from sklearn.metrics import accuracy_score\n",
    "accuracy_score(y_test, predictions)"
   ]
  },
  {
   "cell_type": "code",
   "execution_count": null,
   "id": "052bb348",
   "metadata": {},
   "outputs": [],
   "source": [
    "## Generate new data point \n",
    "import numpy as np\n",
    "new_data = np.random.randint(2, size=1)"
   ]
  },
  {
   "cell_type": "code",
   "execution_count": null,
   "id": "9b6b5945",
   "metadata": {},
   "outputs": [],
   "source": [
    "# Prediction of the new data point\n",
    "predictions = classifier.predict(new_data)\n",
    "print(\"Classes are either 0 (no mental health disorder diagnosis) or 1 (mental health disorder diagnosis)\")\n",
    "print(f\"The new point was classified as: {predictions}\")"
   ]
  }
 ],
 "metadata": {
  "kernelspec": {
   "display_name": "mlenv",
   "language": "python",
   "name": "mlenv"
  },
  "language_info": {
   "codemirror_mode": {
    "name": "ipython",
    "version": 3
   },
   "file_extension": ".py",
   "mimetype": "text/x-python",
   "name": "python",
   "nbconvert_exporter": "python",
   "pygments_lexer": "ipython3",
   "version": "3.7.10"
  }
 },
 "nbformat": 4,
 "nbformat_minor": 5
}
